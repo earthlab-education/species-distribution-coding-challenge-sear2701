{
  "cells": [
    {
      "cell_type": "markdown",
      "id": "36b05cc0-dc3f-4afd-ac98-a979f6ac888d",
      "metadata": {},
      "source": [
        "# STEP 1: Set up your reproducible workflow\n",
        "\n",
        "### Import Python libraries\n",
        "\n",
        "<link rel=\"stylesheet\" type=\"text/css\" href=\"./assets/styles.css\"><div class=\"callout callout-style-default callout-titled callout-task\"><div class=\"callout-header\"><div class=\"callout-icon-container\"><i class=\"callout-icon\"></i></div><div class=\"callout-title-container flex-fill\">Try It: Import packages</div></div><div class=\"callout-body-container callout-body\"><p>In the imports cell, we’ve included a number of packages that you\n",
        "will need. Add imports for packages that will help you:</p>\n",
        "<ol type=\"1\">\n",
        "<li>Work with tabular data</li>\n",
        "<li>Work with geospatial vector data</li>\n",
        "</ol></div></div>"
      ]
    },
    {
      "cell_type": "code",
      "execution_count": 1,
      "id": "aff9d628",
      "metadata": {
        "highlight": true
      },
      "outputs": [],
      "source": [
        "import os # operating system and directory for working with files\n",
        "import pathlib # best package for dealing with directories and files. Treat files paths as object\n",
        "import geopandas as gpd\n",
        "import pandas as pd"
      ]
    },
    {
      "cell_type": "markdown",
      "id": "6ca26e89-03ea-4ffd-ac2d-ea8b34307855",
      "metadata": {},
      "source": [
        "### Create a folder for your data\n",
        "\n",
        "For this challenge, you will need to save some data to the computer\n",
        "you’re working on. We suggest saving to somewhere in your *home* folder\n",
        "(e.g. `/home/username`), rather than to your GitHub repository, since\n",
        "data files can easily become too large for GitHub.\n",
        "\n",
        "> **Warning**\n",
        ">\n",
        "> The **home** directory is different for every user! Your home\n",
        "> directory probably won’t exist on someone else’s computer. Make sure\n",
        "> to use code like `pathlib.Path.home()` to compute the home directory\n",
        "> on the computer the code is running on. This is key to writing\n",
        "> reproducible and interoperable code.\n",
        "\n",
        "<link rel=\"stylesheet\" type=\"text/css\" href=\"./assets/styles.css\"><div class=\"callout callout-style-default callout-titled callout-task\"><div class=\"callout-header\"><div class=\"callout-icon-container\"><i class=\"callout-icon\"></i></div><div class=\"callout-title-container flex-fill\">Try It: Create a project folder</div></div><div class=\"callout-body-container callout-body\"><p>The code below will help you get started with making a project\n",
        "directory</p>\n",
        "<ol type=\"1\">\n",
        "<li>Replace <code>'your-project-directory-name-here'</code> and\n",
        "<code>'your-gbif-data-directory-name-here'</code> with\n",
        "<strong>descriptive</strong> names</li>\n",
        "<li>Run the cell</li>\n",
        "<li>(OPTIONAL) Check in the terminal that you created the directory\n",
        "using the command <code>ls ~/earth-analytics/data</code></li>\n",
        "</ol></div></div>"
      ]
    },
    {
      "cell_type": "code",
      "execution_count": 2,
      "id": "a7647c08",
      "metadata": {},
      "outputs": [
        {
          "data": {
            "text/plain": [
              "PosixPath('/home/jovyan')"
            ]
          },
          "execution_count": 2,
          "metadata": {},
          "output_type": "execute_result"
        }
      ],
      "source": [
        "pathlib.Path.home()"
      ]
    },
    {
      "cell_type": "code",
      "execution_count": 3,
      "id": "32d6451c",
      "metadata": {
        "highlight": true
      },
      "outputs": [
        {
          "data": {
            "text/plain": [
              "'/home/jovyan/earth-analytics/data/species_distribution'"
            ]
          },
          "execution_count": 3,
          "metadata": {},
          "output_type": "execute_result"
        }
      ],
      "source": [
        "# Create data directory in the home folder\n",
        "data_dir = os.path.join(\n",
        "    # Home directory\n",
        "    pathlib.Path.home(),\n",
        "    # Earth analytics data directory\n",
        "    'earth-analytics',\n",
        "    'data',\n",
        "    # Project directory\n",
        "    'species_distribution',\n",
        ")\n",
        "os.makedirs(data_dir, exist_ok=True)\n",
        "data_dir"
      ]
    },
    {
      "cell_type": "markdown",
      "id": "90d9597f-0425-4f72-a197-575e99589901",
      "metadata": {},
      "source": [
        "## STEP 2: Define your study area – the ecoregions of North America\n",
        "\n",
        "Track observations of Taciyagnunpa across different **ecoregions**! You\n",
        "should be able to see changes in the number of observations in each\n",
        "ecoregion throughout the year.\n",
        "\n",
        "<link rel=\"stylesheet\" type=\"text/css\" href=\"./assets/styles.css\"><div class=\"callout callout-style-default callout-titled callout-read\"><div class=\"callout-header\"><div class=\"callout-icon-container\"><i class=\"callout-icon\"></i></div><div class=\"callout-title-container flex-fill\">Read More</div></div><div class=\"callout-body-container callout-body\"><p>The ecoregion data will be available as a <strong>shapefile</strong>.\n",
        "Learn more about shapefiles and vector data in this <a\n",
        "href=\"https://www.earthdatascience.org/courses/intro-to-earth-data-science/file-formats/use-spatial-data/use-vector-data/\">Introduction\n",
        "to Spatial Vector Data File Formats in Open Source Python</a></p></div></div>\n",
        "\n",
        "### Download and save ecoregion boundaries\n",
        "\n",
        "The ecoregion boundaries take some time to download – they come in at\n",
        "about 150MB. To use your time most efficiently, we recommend **caching**\n",
        "the ecoregions data on the machine you’re working on so that you only\n",
        "have to download once. To do that, we’ll also introduce the concept of\n",
        "**conditionals**, or code that adjusts what it does based on the\n",
        "situation.\n",
        "\n",
        "<link rel=\"stylesheet\" type=\"text/css\" href=\"./assets/styles.css\"><div class=\"callout callout-style-default callout-titled callout-read\"><div class=\"callout-header\"><div class=\"callout-icon-container\"><i class=\"callout-icon\"></i></div><div class=\"callout-title-container flex-fill\">Read More</div></div><div class=\"callout-body-container callout-body\"><p>Read more about conditionals in this <a\n",
        "href=\"https://www.earthdatascience.org/courses/intro-to-earth-data-science/write-efficient-python-code/conditional-statements/\">Intro\n",
        "Conditional Statements in Python</a></p></div></div>\n",
        "\n",
        "<link rel=\"stylesheet\" type=\"text/css\" href=\"./assets/styles.css\"><div class=\"callout callout-style-default callout-titled callout-task\"><div class=\"callout-header\"><div class=\"callout-icon-container\"><i class=\"callout-icon\"></i></div><div class=\"callout-title-container flex-fill\">Try It: Get ecoregions boundaries</div></div><div class=\"callout-body-container callout-body\"><ol type=\"1\">\n",
        "<li>Find the URL for for the ecoregion boundary\n",
        "<strong>Shapefile</strong>. You can <a\n",
        "href=\"https://www.geographyrealm.com/terrestrial-ecoregions-gis-data/\">get\n",
        "ecoregion boundaries from Google.</a>.</li>\n",
        "<li>Replace <code>your/url/here</code> with the URL you found, making\n",
        "sure to format it so it is easily readable. Also, replace\n",
        "<code>ecoregions_dirname</code> and <code>ecoregions_filename</code>\n",
        "with descriptive and machine-readable names for your project’s file\n",
        "structure.</li>\n",
        "<li>Change all the variable names to <strong>descriptive</strong>\n",
        "variable names, making sure to correctly reference variables you created\n",
        "before.</li>\n",
        "<li>Run the cell to download and save the data.</li>\n",
        "</ol></div></div>"
      ]
    },
    {
      "cell_type": "code",
      "execution_count": 4,
      "id": "323f4d4a",
      "metadata": {
        "highlight": true
      },
      "outputs": [],
      "source": [
        "# Set up the ecoregion boundary URL\n",
        "ecoreg_url = \"https://storage.googleapis.com/teow2016/Ecoregions2017.zip\"\n",
        "\n",
        "# Set up a path to save the data on your machine\n",
        "eco_dir = os.path.join(data_dir,'resolve_ecoreg')\n",
        "# Make the ecoregions directory\n",
        "os.makedirs(eco_dir, exist_ok=True)\n",
        "# Make shapefile directory\n",
        "\n",
        "# Join ecoregions shapefile path\n",
        "eco_shape_path = os.path.join(eco_dir, 'ecoregions_bound.shp')\n",
        "\n",
        "# Only download once\n",
        "if not os.path.exists(eco_shape_path):\n",
        "    ecoreg_gdf = gpd.read_file(ecoreg_url)\n",
        "    ecoreg_gdf.to_file(eco_shape_path)"
      ]
    },
    {
      "cell_type": "markdown",
      "id": "2cea27c1-57af-4ce5-b162-ec2919dda379",
      "metadata": {},
      "source": [
        "Let’s check that that worked! To do so we’ll use a **bash** command\n",
        "called `find` to look for all the files in your project directory with\n",
        "the `.shp` extension:"
      ]
    },
    {
      "cell_type": "code",
      "execution_count": 5,
      "id": "3929e977",
      "metadata": {},
      "outputs": [
        {
          "name": "stdout",
          "output_type": "stream",
          "text": [
            "/home/jovyan/earth-analytics/data/species_distribution/resolve_ecoreg/ecoregions_bound.shp\n"
          ]
        }
      ],
      "source": [
        "%%bash\n",
        "find ~/earth-analytics/data/species_distribution -name '*.shp' "
      ]
    },
    {
      "cell_type": "markdown",
      "id": "71af076a-af9e-44ac-858c-88ff1cbb996b",
      "metadata": {},
      "source": [
        "> **Tip**\n",
        ">\n",
        "> You can also run bash commands in the terminal!\n",
        "\n",
        "<link rel=\"stylesheet\" type=\"text/css\" href=\"./assets/styles.css\"><div class=\"callout callout-style-default callout-titled callout-read\"><div class=\"callout-header\"><div class=\"callout-icon-container\"><i class=\"callout-icon\"></i></div><div class=\"callout-title-container flex-fill\">Read More</div></div><div class=\"callout-body-container callout-body\"><p>Learn more about bash in this <a\n",
        "href=\"https://www.earthdatascience.org/courses/intro-to-earth-data-science/open-reproducible-science/bash/\">Introduction\n",
        "to Bash</a></p></div></div>\n",
        "\n",
        "### Load the ecoregions into Python\n",
        "\n",
        "<link rel=\"stylesheet\" type=\"text/css\" href=\"./assets/styles.css\"><div class=\"callout callout-style-default callout-titled callout-task\"><div class=\"callout-header\"><div class=\"callout-icon-container\"><i class=\"callout-icon\"></i></div><div class=\"callout-title-container flex-fill\">Try It: Load ecoregions into Python</div></div><div class=\"callout-body-container callout-body\"><p>Download and save ecoregion boundaries from the EPA:</p>\n",
        "<ol type=\"1\">\n",
        "<li>Replace <code>a_path</code> with the path your created for your\n",
        "ecoregions file.</li>\n",
        "<li>(optional) Consider renaming and selecting columns to make your\n",
        "<code>GeoDataFrame</code> easier to work with. Many of the same methods\n",
        "you learned for <code>pandas</code> <code>DataFrame</code>s are the same\n",
        "for <code>GeoDataFrame</code>s!</li>\n",
        "<li>Make a quick plot with <code>.plot()</code> to make sure the\n",
        "download worked.</li>\n",
        "<li>Run the cell to load the data into Python</li>\n",
        "</ol></div></div>"
      ]
    },
    {
      "cell_type": "code",
      "execution_count": 6,
      "id": "1b959634",
      "metadata": {},
      "outputs": [
        {
          "data": {
            "text/plain": [
              "<Axes: >"
            ]
          },
          "execution_count": 6,
          "metadata": {},
          "output_type": "execute_result"
        },
        {
          "data": {
            "image/png": "[encoded data removed]",
            "text/plain": [
              "<Figure size 640x480 with 1 Axes>"
            ]
          },
          "metadata": {},
          "output_type": "display_data"
        }
      ],
      "source": [
        "# Open up the ecoregions boundaries\n",
        "ecoregions_gdf = gpd.read_file(eco_shape_path)\n",
        "# Name the index so it will match the other data later on\n",
        "ecoregions_gdf.index.name = 'ecoregion'\n",
        "ecoregions_gdf.plot(edgecolor='black', color='lightgreen')\n",
        "# Plot the ecoregions to check download\n"
      ]
    },
    {
      "cell_type": "code",
      "execution_count": 7,
      "id": "3dc7aa8c",
      "metadata": {},
      "outputs": [
        {
          "data": {
            "text/html": [
              "<div>\n",
              "<style scoped>\n",
              "    .dataframe tbody tr th:only-of-type {\n",
              "        vertical-align: middle;\n",
              "    }\n",
              "\n",
              "    .dataframe tbody tr th {\n",
              "        vertical-align: top;\n",
              "    }\n",
              "\n",
              "    .dataframe thead th {\n",
              "        text-align: right;\n",
              "    }\n",
              "</style>\n",
              "<table border=\"1\" class=\"dataframe\">\n",
              "  <thead>\n",
              "    <tr style=\"text-align: right;\">\n",
              "      <th></th>\n",
              "      <th>OBJECTID</th>\n",
              "      <th>ECO_NAME</th>\n",
              "      <th>BIOME_NUM</th>\n",
              "      <th>BIOME_NAME</th>\n",
              "      <th>REALM</th>\n",
              "      <th>ECO_BIOME_</th>\n",
              "      <th>NNH</th>\n",
              "      <th>ECO_ID</th>\n",
              "      <th>SHAPE_LENG</th>\n",
              "      <th>SHAPE_AREA</th>\n",
              "      <th>NNH_NAME</th>\n",
              "      <th>COLOR</th>\n",
              "      <th>COLOR_BIO</th>\n",
              "      <th>COLOR_NNH</th>\n",
              "      <th>LICENSE</th>\n",
              "      <th>geometry</th>\n",
              "    </tr>\n",
              "    <tr>\n",
              "      <th>ecoregion</th>\n",
              "      <th></th>\n",
              "      <th></th>\n",
              "      <th></th>\n",
              "      <th></th>\n",
              "      <th></th>\n",
              "      <th></th>\n",
              "      <th></th>\n",
              "      <th></th>\n",
              "      <th></th>\n",
              "      <th></th>\n",
              "      <th></th>\n",
              "      <th></th>\n",
              "      <th></th>\n",
              "      <th></th>\n",
              "      <th></th>\n",
              "      <th></th>\n",
              "    </tr>\n",
              "  </thead>\n",
              "  <tbody>\n",
              "    <tr>\n",
              "      <th>0</th>\n",
              "      <td>1.0</td>\n",
              "      <td>Adelie Land tundra</td>\n",
              "      <td>11.0</td>\n",
              "      <td>Tundra</td>\n",
              "      <td>Antarctica</td>\n",
              "      <td>AN11</td>\n",
              "      <td>1</td>\n",
              "      <td>117</td>\n",
              "      <td>9.749780</td>\n",
              "      <td>0.038948</td>\n",
              "      <td>Half Protected</td>\n",
              "      <td>#63CFAB</td>\n",
              "      <td>#9ED7C2</td>\n",
              "      <td>#257339</td>\n",
              "      <td>CC-BY 4.0</td>\n",
              "      <td>MULTIPOLYGON (((158.7141 -69.60657, 158.71264 ...</td>\n",
              "    </tr>\n",
              "    <tr>\n",
              "      <th>1</th>\n",
              "      <td>2.0</td>\n",
              "      <td>Admiralty Islands lowland rain forests</td>\n",
              "      <td>1.0</td>\n",
              "      <td>Tropical &amp; Subtropical Moist Broadleaf Forests</td>\n",
              "      <td>Australasia</td>\n",
              "      <td>AU01</td>\n",
              "      <td>2</td>\n",
              "      <td>135</td>\n",
              "      <td>4.800349</td>\n",
              "      <td>0.170599</td>\n",
              "      <td>Nature Could Reach Half Protected</td>\n",
              "      <td>#70A800</td>\n",
              "      <td>#38A700</td>\n",
              "      <td>#7BC141</td>\n",
              "      <td>CC-BY 4.0</td>\n",
              "      <td>MULTIPOLYGON (((147.28819 -2.57589, 147.2715 -...</td>\n",
              "    </tr>\n",
              "    <tr>\n",
              "      <th>2</th>\n",
              "      <td>3.0</td>\n",
              "      <td>Aegean and Western Turkey sclerophyllous and m...</td>\n",
              "      <td>12.0</td>\n",
              "      <td>Mediterranean Forests, Woodlands &amp; Scrub</td>\n",
              "      <td>Palearctic</td>\n",
              "      <td>PA12</td>\n",
              "      <td>4</td>\n",
              "      <td>785</td>\n",
              "      <td>162.523044</td>\n",
              "      <td>13.844952</td>\n",
              "      <td>Nature Imperiled</td>\n",
              "      <td>#FF7F7C</td>\n",
              "      <td>#FE0000</td>\n",
              "      <td>#EE1E23</td>\n",
              "      <td>CC-BY 4.0</td>\n",
              "      <td>MULTIPOLYGON (((26.88659 35.32161, 26.88297 35...</td>\n",
              "    </tr>\n",
              "    <tr>\n",
              "      <th>3</th>\n",
              "      <td>4.0</td>\n",
              "      <td>Afghan Mountains semi-desert</td>\n",
              "      <td>13.0</td>\n",
              "      <td>Deserts &amp; Xeric Shrublands</td>\n",
              "      <td>Palearctic</td>\n",
              "      <td>PA13</td>\n",
              "      <td>4</td>\n",
              "      <td>807</td>\n",
              "      <td>15.084037</td>\n",
              "      <td>1.355536</td>\n",
              "      <td>Nature Imperiled</td>\n",
              "      <td>#FA774D</td>\n",
              "      <td>#CC6767</td>\n",
              "      <td>#EE1E23</td>\n",
              "      <td>CC-BY 4.0</td>\n",
              "      <td>MULTIPOLYGON (((65.48655 34.71401, 65.52872 34...</td>\n",
              "    </tr>\n",
              "    <tr>\n",
              "      <th>4</th>\n",
              "      <td>5.0</td>\n",
              "      <td>Ahklun and Kilbuck Upland Tundra</td>\n",
              "      <td>11.0</td>\n",
              "      <td>Tundra</td>\n",
              "      <td>Nearctic</td>\n",
              "      <td>NE11</td>\n",
              "      <td>1</td>\n",
              "      <td>404</td>\n",
              "      <td>22.590087</td>\n",
              "      <td>8.196573</td>\n",
              "      <td>Half Protected</td>\n",
              "      <td>#4C82B6</td>\n",
              "      <td>#9ED7C2</td>\n",
              "      <td>#257339</td>\n",
              "      <td>CC-BY 4.0</td>\n",
              "      <td>MULTIPOLYGON (((-160.26404 58.64097, -160.2673...</td>\n",
              "    </tr>\n",
              "  </tbody>\n",
              "</table>\n",
              "</div>"
            ],
            "text/plain": [
              "           OBJECTID                                           ECO_NAME  \\\n",
              "ecoregion                                                                \n",
              "0               1.0                                 Adelie Land tundra   \n",
              "1               2.0             Admiralty Islands lowland rain forests   \n",
              "2               3.0  Aegean and Western Turkey sclerophyllous and m...   \n",
              "3               4.0                       Afghan Mountains semi-desert   \n",
              "4               5.0                   Ahklun and Kilbuck Upland Tundra   \n",
              "\n",
              "           BIOME_NUM                                      BIOME_NAME  \\\n",
              "ecoregion                                                              \n",
              "0               11.0                                          Tundra   \n",
              "1                1.0  Tropical & Subtropical Moist Broadleaf Forests   \n",
              "2               12.0        Mediterranean Forests, Woodlands & Scrub   \n",
              "3               13.0                      Deserts & Xeric Shrublands   \n",
              "4               11.0                                          Tundra   \n",
              "\n",
              "                 REALM ECO_BIOME_  NNH  ECO_ID  SHAPE_LENG  SHAPE_AREA  \\\n",
              "ecoregion                                                                \n",
              "0           Antarctica       AN11    1     117    9.749780    0.038948   \n",
              "1          Australasia       AU01    2     135    4.800349    0.170599   \n",
              "2           Palearctic       PA12    4     785  162.523044   13.844952   \n",
              "3           Palearctic       PA13    4     807   15.084037    1.355536   \n",
              "4             Nearctic       NE11    1     404   22.590087    8.196573   \n",
              "\n",
              "                                    NNH_NAME    COLOR COLOR_BIO COLOR_NNH  \\\n",
              "ecoregion                                                                   \n",
              "0                             Half Protected  #63CFAB   #9ED7C2   #257339   \n",
              "1          Nature Could Reach Half Protected  #70A800   #38A700   #7BC141   \n",
              "2                           Nature Imperiled  #FF7F7C   #FE0000   #EE1E23   \n",
              "3                           Nature Imperiled  #FA774D   #CC6767   #EE1E23   \n",
              "4                             Half Protected  #4C82B6   #9ED7C2   #257339   \n",
              "\n",
              "             LICENSE                                           geometry  \n",
              "ecoregion                                                                \n",
              "0          CC-BY 4.0  MULTIPOLYGON (((158.7141 -69.60657, 158.71264 ...  \n",
              "1          CC-BY 4.0  MULTIPOLYGON (((147.28819 -2.57589, 147.2715 -...  \n",
              "2          CC-BY 4.0  MULTIPOLYGON (((26.88659 35.32161, 26.88297 35...  \n",
              "3          CC-BY 4.0  MULTIPOLYGON (((65.48655 34.71401, 65.52872 34...  \n",
              "4          CC-BY 4.0  MULTIPOLYGON (((-160.26404 58.64097, -160.2673...  "
            ]
          },
          "execution_count": 7,
          "metadata": {},
          "output_type": "execute_result"
        }
      ],
      "source": [
        "# displays top 5 rows of ecoregion_gdf table\n",
        "ecoregions_gdf.head()"
      ]
    },
    {
      "cell_type": "markdown",
      "id": "858b66c7-700a-463e-85d3-e33366db55b4",
      "metadata": {},
      "source": [
        "## STEP 3: Download species observation data\n",
        "\n",
        "For this challenge, you will use a database called the [Global\n",
        "Biodiversity Information Facility (GBIF)](https://www.gbif.org/). GBIF\n",
        "is compiled from species observation data all over the world, and\n",
        "includes everything from museum specimens to photos taken by citizen\n",
        "scientists in their backyards. We’ve compiled some sample data in the\n",
        "same format that you will get from GBIF.\n",
        "\n",
        "### Download sample data\n",
        "\n",
        "<link rel=\"stylesheet\" type=\"text/css\" href=\"./assets/styles.css\"><div class=\"callout callout-style-default callout-titled callout-task\"><div class=\"callout-header\"><div class=\"callout-icon-container\"><i class=\"callout-icon\"></i></div><div class=\"callout-title-container flex-fill\">Try It: Import GBIF Data</div></div><div class=\"callout-body-container callout-body\"><ol type=\"1\">\n",
        "<li>Define the <code>gbif_url</code>. You can get sample data from\n",
        "https://github.com/cu-esiil-edu/esiil-learning-portal/releases/download/data-release/species-distribution-foundations-data.zip</li>\n",
        "<li>Using the ecoregions code, modify the code cell below so that the\n",
        "download only runs once, as with the ecoregion data.</li>\n",
        "<li>Run the cell</li>\n",
        "</ol></div></div>"
      ]
    },
    {
      "cell_type": "code",
      "execution_count": 8,
      "id": "779c69dd",
      "metadata": {},
      "outputs": [
        {
          "ename": "NameError",
          "evalue": "name 'gbif_df' is not defined",
          "output_type": "error",
          "traceback": [
            "\u001b[0;31m---------------------------------------------------------------------------\u001b[0m",
            "\u001b[0;31mNameError\u001b[0m                                 Traceback (most recent call last)",
            "Cell \u001b[0;32mIn[8], line 22\u001b[0m\n\u001b[1;32m     15\u001b[0m     gbif_df \u001b[38;5;241m=\u001b[39m pd\u001b[38;5;241m.\u001b[39mread_csv(\n\u001b[1;32m     16\u001b[0m         gbif_url, \n\u001b[1;32m     17\u001b[0m         delimiter\u001b[38;5;241m=\u001b[39m\u001b[38;5;124m'\u001b[39m\u001b[38;5;130;01m\\t\u001b[39;00m\u001b[38;5;124m'\u001b[39m,\n\u001b[1;32m     18\u001b[0m         index_col\u001b[38;5;241m=\u001b[39m\u001b[38;5;124m'\u001b[39m\u001b[38;5;124mgbifID\u001b[39m\u001b[38;5;124m'\u001b[39m,\n\u001b[1;32m     19\u001b[0m         usecols\u001b[38;5;241m=\u001b[39m[\u001b[38;5;124m'\u001b[39m\u001b[38;5;124mgbifID\u001b[39m\u001b[38;5;124m'\u001b[39m, \u001b[38;5;124m'\u001b[39m\u001b[38;5;124mdecimalLatitude\u001b[39m\u001b[38;5;124m'\u001b[39m, \u001b[38;5;124m'\u001b[39m\u001b[38;5;124mdecimalLongitude\u001b[39m\u001b[38;5;124m'\u001b[39m, \u001b[38;5;124m'\u001b[39m\u001b[38;5;124mmonth\u001b[39m\u001b[38;5;124m'\u001b[39m])\n\u001b[1;32m     21\u001b[0m \u001b[38;5;66;03m# Save the gbif data\u001b[39;00m\n\u001b[0;32m---> 22\u001b[0m \u001b[43mgbif_df\u001b[49m\u001b[38;5;241m.\u001b[39mto_csv(gbif_path, index\u001b[38;5;241m=\u001b[39m\u001b[38;5;28;01mFalse\u001b[39;00m)\n\u001b[1;32m     24\u001b[0m gbif_df \u001b[38;5;241m=\u001b[39m pd\u001b[38;5;241m.\u001b[39mread_csv(gbif_path)\n\u001b[1;32m     25\u001b[0m gbif_df\u001b[38;5;241m.\u001b[39mhead()\n",
            "\u001b[0;31mNameError\u001b[0m: name 'gbif_df' is not defined"
          ]
        },
        {
          "ename": "",
          "evalue": "",
          "output_type": "error",
          "traceback": [
            "\u001b[1;31mThe Kernel crashed while executing code in the current cell or a previous cell. \n",
            "\u001b[1;31mPlease review the code in the cell(s) to identify a possible cause of the failure. \n",
            "\u001b[1;31mClick <a href='https://aka.ms/vscodeJupyterKernelCrash'>here</a> for more info. \n",
            "\u001b[1;31mView Jupyter <a href='command:jupyter.viewOutput'>log</a> for further details."
          ]
        }
      ],
      "source": [
        "# define location of data online\n",
        "gbif_url = (\n",
        "    \"https://github.com/cu-esiil-edu/esiil-learning-portal/releases/download/\"\n",
        "\"data-release/species-distribution-foundations-data.zip\"\n",
        ")\n",
        "# Set up a path to save data in home\n",
        "gbif_dir = os.path.join(data_dir, 'gbif_veery')\n",
        "os.makedirs(gbif_dir, exist_ok=True)\n",
        "gbif_path = os.path.join(gbif_dir, \"gbif_veery.zip\")\n",
        "\n",
        "# Download only 1 time\n",
        "if not os.path.exists(gbif_path):\n",
        "\n",
        "# Load the GBIF data\n",
        "    gbif_df = pd.read_csv(\n",
        "        gbif_url, \n",
        "        delimiter='\\t',\n",
        "        index_col='gbifID',\n",
        "        usecols=['gbifID', 'decimalLatitude', 'decimalLongitude', 'month'])\n",
        "\n",
        "# Save the gbif data\n",
        "gbif_df.to_csv(gbif_path, index=False)\n",
        "\n",
        "gbif_df = pd.read_csv(gbif_path)\n",
        "gbif_df.head()"
      ]
    },
    {
      "cell_type": "markdown",
      "id": "8bb45ad8-cc28-4259-a169-55192647712d",
      "metadata": {},
      "source": [
        "### Convert the GBIF data to a GeoDataFrame\n",
        "\n",
        "To plot the GBIF data, we need to convert it to a `GeoDataFrame` first.\n",
        "This will make some special geospatial operations from `geopandas`\n",
        "available, such as spatial joins and plotting.\n",
        "\n",
        "<link rel=\"stylesheet\" type=\"text/css\" href=\"./assets/styles.css\"><div class=\"callout callout-style-default callout-titled callout-task\"><div class=\"callout-header\"><div class=\"callout-icon-container\"><i class=\"callout-icon\"></i></div><div class=\"callout-title-container flex-fill\">Try It: Convert `DataFrame` to `GeoDataFrame`</div></div><div class=\"callout-body-container callout-body\"><ol type=\"1\">\n",
        "<li>Replace <code>your_dataframe</code> with the name of the\n",
        "<code>DataFrame</code> you just got from GBIF</li>\n",
        "<li>Replace <code>longitude_column_name</code> and\n",
        "<code>latitude_column_name</code> with column names from your\n",
        "`DataFrame</li>\n",
        "<li>Run the code to get a <code>GeoDataFrame</code> of the GBIF\n",
        "data.</li>\n",
        "</ol></div></div>"
      ]
    },
    {
      "cell_type": "code",
      "execution_count": 14,
      "id": "ac7c5db3",
      "metadata": {
        "highlight": true
      },
      "outputs": [
        {
          "data": {
            "text/html": [
              "<div>\n",
              "<style scoped>\n",
              "    .dataframe tbody tr th:only-of-type {\n",
              "        vertical-align: middle;\n",
              "    }\n",
              "\n",
              "    .dataframe tbody tr th {\n",
              "        vertical-align: top;\n",
              "    }\n",
              "\n",
              "    .dataframe thead th {\n",
              "        text-align: right;\n",
              "    }\n",
              "</style>\n",
              "<table border=\"1\" class=\"dataframe\">\n",
              "  <thead>\n",
              "    <tr style=\"text-align: right;\">\n",
              "      <th></th>\n",
              "      <th>month</th>\n",
              "      <th>geometry</th>\n",
              "    </tr>\n",
              "  </thead>\n",
              "  <tbody>\n",
              "    <tr>\n",
              "      <th>0</th>\n",
              "      <td>9</td>\n",
              "      <td>POINT (-73.97248 40.77155)</td>\n",
              "    </tr>\n",
              "    <tr>\n",
              "      <th>1</th>\n",
              "      <td>5</td>\n",
              "      <td>POINT (-85.44625 42.58812)</td>\n",
              "    </tr>\n",
              "    <tr>\n",
              "      <th>2</th>\n",
              "      <td>5</td>\n",
              "      <td>POINT (-72.30729 43.70306)</td>\n",
              "    </tr>\n",
              "    <tr>\n",
              "      <th>3</th>\n",
              "      <td>7</td>\n",
              "      <td>POINT (-77.73126 48.17427)</td>\n",
              "    </tr>\n",
              "    <tr>\n",
              "      <th>4</th>\n",
              "      <td>5</td>\n",
              "      <td>POINT (-72.44836 42.54428)</td>\n",
              "    </tr>\n",
              "    <tr>\n",
              "      <th>...</th>\n",
              "      <td>...</td>\n",
              "      <td>...</td>\n",
              "    </tr>\n",
              "    <tr>\n",
              "      <th>162770</th>\n",
              "      <td>5</td>\n",
              "      <td>POINT (-78.75946 45.0954)</td>\n",
              "    </tr>\n",
              "    <tr>\n",
              "      <th>162771</th>\n",
              "      <td>7</td>\n",
              "      <td>POINT (-88.02332 48.99255)</td>\n",
              "    </tr>\n",
              "    <tr>\n",
              "      <th>162772</th>\n",
              "      <td>5</td>\n",
              "      <td>POINT (-72.79677 43.46352)</td>\n",
              "    </tr>\n",
              "    <tr>\n",
              "      <th>162773</th>\n",
              "      <td>6</td>\n",
              "      <td>POINT (-81.32435 46.04416)</td>\n",
              "    </tr>\n",
              "    <tr>\n",
              "      <th>162774</th>\n",
              "      <td>5</td>\n",
              "      <td>POINT (-73.82481 40.61684)</td>\n",
              "    </tr>\n",
              "  </tbody>\n",
              "</table>\n",
              "<p>162775 rows × 2 columns</p>\n",
              "</div>"
            ],
            "text/plain": [
              "        month                    geometry\n",
              "0           9  POINT (-73.97248 40.77155)\n",
              "1           5  POINT (-85.44625 42.58812)\n",
              "2           5  POINT (-72.30729 43.70306)\n",
              "3           7  POINT (-77.73126 48.17427)\n",
              "4           5  POINT (-72.44836 42.54428)\n",
              "...       ...                         ...\n",
              "162770      5   POINT (-78.75946 45.0954)\n",
              "162771      7  POINT (-88.02332 48.99255)\n",
              "162772      5  POINT (-72.79677 43.46352)\n",
              "162773      6  POINT (-81.32435 46.04416)\n",
              "162774      5  POINT (-73.82481 40.61684)\n",
              "\n",
              "[162775 rows x 2 columns]"
            ]
          },
          "execution_count": 14,
          "metadata": {},
          "output_type": "execute_result"
        }
      ],
      "source": [
        "# Transforms dataframe (gbif_df) into a geodatafram (gbif_df)\n",
        "# Must call the df, then define the geometry. The geometry is defined by the lat/long values in the df\n",
        "# use the code gbif_df.column_name_long, gbif_df.column_name_lat\n",
        "# not sure what the crs= \"EPSG:4326\" is; maybe a projection? \n",
        "gbif_gdf = (\n",
        "    gpd.GeoDataFrame(\n",
        "        gbif_df, \n",
        "        geometry=gpd.points_from_xy(\n",
        "            gbif_df.decimalLongitude, \n",
        "            gbif_df.decimalLatitude), \n",
        "        crs=\"EPSG:4326\")\n",
        "    # Select the desired columns\n",
        "    [['month', 'geometry']]\n",
        ")\n",
        "gbif_gdf"
      ]
    },
    {
      "cell_type": "code",
      "execution_count": 15,
      "id": "7d587546",
      "metadata": {},
      "outputs": [
        {
          "name": "stdout",
          "output_type": "stream",
          "text": [
            "Stored 'ecoregions_gdf' (GeoDataFrame)\n",
            "Stored 'gbif_gdf' (GeoDataFrame)\n"
          ]
        }
      ],
      "source": [
        "%store ecoregions_gdf gbif_gdf"
      ]
    },
    {
      "cell_type": "markdown",
      "id": "0d95a6ef-29c9-43d4-9912-2aa6f3151965",
      "metadata": {},
      "source": [
        "<link rel=\"stylesheet\" type=\"text/css\" href=\"./assets/styles.css\"><div class=\"callout callout-style-default callout-titled callout-task\"><div class=\"callout-header\"><div class=\"callout-icon-container\"><i class=\"callout-icon\"></i></div><div class=\"callout-title-container flex-fill\">Try It</div></div><div class=\"callout-body-container callout-body\"><p>Make sure to store the new version of your <code>DataFrame</code> for\n",
        "other notebooks!</p>\n",
        "<div id=\"70111aa5\" class=\"cell\" data-execution_count=\"15\">\n",
        "<div class=\"sourceCode\" id=\"cb1\"><pre\n",
        "class=\"sourceCode python cell-code\"><code class=\"sourceCode python\"><span id=\"cb1-1\"><a href=\"#cb1-1\" aria-hidden=\"true\" tabindex=\"-1\"></a><span class=\"op\">%</span>store ecoregions_gdf gbif_gdf</span></code></pre></div>\n",
        "</div></div></div>"
      ]
    }
  ],
  "metadata": {
    "kernelspec": {
      "display_name": "base",
      "language": "python",
      "name": "python3"
    },
    "language_info": {
      "codemirror_mode": {
        "name": "ipython",
        "version": 3
      },
      "file_extension": ".py",
      "mimetype": "text/x-python",
      "name": "python",
      "nbconvert_exporter": "python",
      "pygments_lexer": "ipython3",
      "version": "3.11.6"
    }
  },
  "nbformat": 4,
  "nbformat_minor": 5
}
