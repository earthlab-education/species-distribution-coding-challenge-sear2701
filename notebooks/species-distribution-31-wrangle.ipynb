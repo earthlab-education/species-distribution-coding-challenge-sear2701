{
  "cells": [
    {
      "cell_type": "markdown",
      "id": "36b05cc0-dc3f-4afd-ac98-a979f6ac888d",
      "metadata": {},
      "source": [
        "# STEP 1: Set up your reproducible workflow\n",
        "\n",
        "### Import Python libraries\n",
        "\n",
        "<link rel=\"stylesheet\" type=\"text/css\" href=\"./assets/styles.css\"><div class=\"callout callout-style-default callout-titled callout-task\"><div class=\"callout-header\"><div class=\"callout-icon-container\"><i class=\"callout-icon\"></i></div><div class=\"callout-title-container flex-fill\">Try It: Import packages</div></div><div class=\"callout-body-container callout-body\"><p>In the imports cell, we’ve included a number of packages that you\n",
        "will need. Add imports for packages that will help you:</p>\n",
        "<ol type=\"1\">\n",
        "<li>Work with tabular data</li>\n",
        "<li>Work with geospatial vector data</li>\n",
        "</ol></div></div>"
      ]
    },
    {
      "cell_type": "code",
      "execution_count": 1,
      "id": "aff9d628",
      "metadata": {
        "highlight": true
      },
      "outputs": [],
      "source": [
        "import os # operating system and directory for working with files\n",
        "import pathlib # best package for dealing with directories and files. Treat files paths as object\n",
        "import geopandas as gpd\n",
        "import pandas as pd"
      ]
    },
    {
      "cell_type": "markdown",
      "id": "6ca26e89-03ea-4ffd-ac2d-ea8b34307855",
      "metadata": {},
      "source": [
        "### Create a folder for your data\n",
        "\n",
        "For this challenge, you will need to save some data to the computer\n",
        "you’re working on. We suggest saving to somewhere in your *home* folder\n",
        "(e.g. `/home/username`), rather than to your GitHub repository, since\n",
        "data files can easily become too large for GitHub.\n",
        "\n",
        "> **Warning**\n",
        ">\n",
        "> The **home** directory is different for every user! Your home\n",
        "> directory probably won’t exist on someone else’s computer. Make sure\n",
        "> to use code like `pathlib.Path.home()` to compute the home directory\n",
        "> on the computer the code is running on. This is key to writing\n",
        "> reproducible and interoperable code.\n",
        "\n",
        "<link rel=\"stylesheet\" type=\"text/css\" href=\"./assets/styles.css\"><div class=\"callout callout-style-default callout-titled callout-task\"><div class=\"callout-header\"><div class=\"callout-icon-container\"><i class=\"callout-icon\"></i></div><div class=\"callout-title-container flex-fill\">Try It: Create a project folder</div></div><div class=\"callout-body-container callout-body\"><p>The code below will help you get started with making a project\n",
        "directory</p>\n",
        "<ol type=\"1\">\n",
        "<li>Replace <code>'your-project-directory-name-here'</code> and\n",
        "<code>'your-gbif-data-directory-name-here'</code> with\n",
        "<strong>descriptive</strong> names</li>\n",
        "<li>Run the cell</li>\n",
        "<li>(OPTIONAL) Check in the terminal that you created the directory\n",
        "using the command <code>ls ~/earth-analytics/data</code></li>\n",
        "</ol></div></div>"
      ]
    },
    {
      "cell_type": "code",
      "execution_count": 2,
      "id": "a7647c08",
      "metadata": {},
      "outputs": [
        {
          "data": {
            "text/plain": [
              "PosixPath('/home/jovyan')"
            ]
          },
          "execution_count": 2,
          "metadata": {},
          "output_type": "execute_result"
        }
      ],
      "source": [
        "pathlib.Path.home()"
      ]
    },
    {
      "cell_type": "code",
      "execution_count": 9,
      "id": "32d6451c",
      "metadata": {
        "highlight": true
      },
      "outputs": [
        {
          "data": {
            "text/plain": [
              "'/home/jovyan/earth-analytics/data/species_distribution'"
            ]
          },
          "execution_count": 9,
          "metadata": {},
          "output_type": "execute_result"
        }
      ],
      "source": [
        "# Create data directory in the home folder\n",
        "data_dir = os.path.join(\n",
        "    # Home directory\n",
        "    pathlib.Path.home(),\n",
        "    # Earth analytics data directory\n",
        "    'earth-analytics',\n",
        "    'data',\n",
        "    # Project directory\n",
        "    'species_distribution',\n",
        ")\n",
        "os.makedirs(data_dir, exist_ok=True)\n",
        "data_dir"
      ]
    },
    {
      "cell_type": "markdown",
      "id": "90d9597f-0425-4f72-a197-575e99589901",
      "metadata": {},
      "source": [
        "## STEP 2: Define your study area – the ecoregions of North America\n",
        "\n",
        "Track observations of Taciyagnunpa across different **ecoregions**! You\n",
        "should be able to see changes in the number of observations in each\n",
        "ecoregion throughout the year.\n",
        "\n",
        "<link rel=\"stylesheet\" type=\"text/css\" href=\"./assets/styles.css\"><div class=\"callout callout-style-default callout-titled callout-read\"><div class=\"callout-header\"><div class=\"callout-icon-container\"><i class=\"callout-icon\"></i></div><div class=\"callout-title-container flex-fill\">Read More</div></div><div class=\"callout-body-container callout-body\"><p>The ecoregion data will be available as a <strong>shapefile</strong>.\n",
        "Learn more about shapefiles and vector data in this <a\n",
        "href=\"https://www.earthdatascience.org/courses/intro-to-earth-data-science/file-formats/use-spatial-data/use-vector-data/\">Introduction\n",
        "to Spatial Vector Data File Formats in Open Source Python</a></p></div></div>\n",
        "\n",
        "### Download and save ecoregion boundaries\n",
        "\n",
        "The ecoregion boundaries take some time to download – they come in at\n",
        "about 150MB. To use your time most efficiently, we recommend **caching**\n",
        "the ecoregions data on the machine you’re working on so that you only\n",
        "have to download once. To do that, we’ll also introduce the concept of\n",
        "**conditionals**, or code that adjusts what it does based on the\n",
        "situation.\n",
        "\n",
        "<link rel=\"stylesheet\" type=\"text/css\" href=\"./assets/styles.css\"><div class=\"callout callout-style-default callout-titled callout-read\"><div class=\"callout-header\"><div class=\"callout-icon-container\"><i class=\"callout-icon\"></i></div><div class=\"callout-title-container flex-fill\">Read More</div></div><div class=\"callout-body-container callout-body\"><p>Read more about conditionals in this <a\n",
        "href=\"https://www.earthdatascience.org/courses/intro-to-earth-data-science/write-efficient-python-code/conditional-statements/\">Intro\n",
        "Conditional Statements in Python</a></p></div></div>\n",
        "\n",
        "<link rel=\"stylesheet\" type=\"text/css\" href=\"./assets/styles.css\"><div class=\"callout callout-style-default callout-titled callout-task\"><div class=\"callout-header\"><div class=\"callout-icon-container\"><i class=\"callout-icon\"></i></div><div class=\"callout-title-container flex-fill\">Try It: Get ecoregions boundaries</div></div><div class=\"callout-body-container callout-body\"><ol type=\"1\">\n",
        "<li>Find the URL for for the ecoregion boundary\n",
        "<strong>Shapefile</strong>. You can <a\n",
        "href=\"https://www.geographyrealm.com/terrestrial-ecoregions-gis-data/\">get\n",
        "ecoregion boundaries from Google.</a>.</li>\n",
        "<li>Replace <code>your/url/here</code> with the URL you found, making\n",
        "sure to format it so it is easily readable. Also, replace\n",
        "<code>ecoregions_dirname</code> and <code>ecoregions_filename</code>\n",
        "with descriptive and machine-readable names for your project’s file\n",
        "structure.</li>\n",
        "<li>Change all the variable names to <strong>descriptive</strong>\n",
        "variable names, making sure to correctly reference variables you created\n",
        "before.</li>\n",
        "<li>Run the cell to download and save the data.</li>\n",
        "</ol></div></div>"
      ]
    },
    {
      "cell_type": "code",
      "execution_count": 12,
      "id": "323f4d4a",
      "metadata": {
        "highlight": true
      },
      "outputs": [],
      "source": [
        "# Set up the ecoregion boundary URL\n",
        "ecoreg_url = \"https://storage.googleapis.com/teow2016/Ecoregions2017.zip\"\n",
        "\n",
        "# Set up a path to save the data on your machine\n",
        "eco_dir = os.path.join(data_dir,'resolve_ecoreg')\n",
        "# Make the ecoregions directory\n",
        "os.makedirs(eco_dir, exist_ok=True)\n",
        "# Make shapefile directory\n",
        "\n",
        "# Join ecoregions shapefile path\n",
        "eco_shape_path = os.path.join(eco_dir, 'ecoregions_bound.shp')\n",
        "\n",
        "# Only download once\n",
        "if not os.path.exists(eco_shape_path):\n",
        "    ecoreg_gdf = gpd.read_file(ecoreg_url)\n",
        "    ecoreg_gdf.to_file(eco_shape_path)"
      ]
    },
    {
      "cell_type": "markdown",
      "id": "2cea27c1-57af-4ce5-b162-ec2919dda379",
      "metadata": {},
      "source": [
        "Let’s check that that worked! To do so we’ll use a **bash** command\n",
        "called `find` to look for all the files in your project directory with\n",
        "the `.shp` extension:"
      ]
    },
    {
      "cell_type": "code",
      "execution_count": 13,
      "id": "3929e977",
      "metadata": {},
      "outputs": [
        {
          "name": "stdout",
          "output_type": "stream",
          "text": [
            "/home/jovyan/earth-analytics/data/species_distribution/resolve_ecoreg/ecoregions_bound.shp\n"
          ]
        }
      ],
      "source": [
        "%%bash\n",
        "find ~/earth-analytics/data/species_distribution -name '*.shp' "
      ]
    },
    {
      "cell_type": "markdown",
      "id": "71af076a-af9e-44ac-858c-88ff1cbb996b",
      "metadata": {},
      "source": [
        "> **Tip**\n",
        ">\n",
        "> You can also run bash commands in the terminal!\n",
        "\n",
        "<link rel=\"stylesheet\" type=\"text/css\" href=\"./assets/styles.css\"><div class=\"callout callout-style-default callout-titled callout-read\"><div class=\"callout-header\"><div class=\"callout-icon-container\"><i class=\"callout-icon\"></i></div><div class=\"callout-title-container flex-fill\">Read More</div></div><div class=\"callout-body-container callout-body\"><p>Learn more about bash in this <a\n",
        "href=\"https://www.earthdatascience.org/courses/intro-to-earth-data-science/open-reproducible-science/bash/\">Introduction\n",
        "to Bash</a></p></div></div>\n",
        "\n",
        "### Load the ecoregions into Python\n",
        "\n",
        "<link rel=\"stylesheet\" type=\"text/css\" href=\"./assets/styles.css\"><div class=\"callout callout-style-default callout-titled callout-task\"><div class=\"callout-header\"><div class=\"callout-icon-container\"><i class=\"callout-icon\"></i></div><div class=\"callout-title-container flex-fill\">Try It: Load ecoregions into Python</div></div><div class=\"callout-body-container callout-body\"><p>Download and save ecoregion boundaries from the EPA:</p>\n",
        "<ol type=\"1\">\n",
        "<li>Replace <code>a_path</code> with the path your created for your\n",
        "ecoregions file.</li>\n",
        "<li>(optional) Consider renaming and selecting columns to make your\n",
        "<code>GeoDataFrame</code> easier to work with. Many of the same methods\n",
        "you learned for <code>pandas</code> <code>DataFrame</code>s are the same\n",
        "for <code>GeoDataFrame</code>s!</li>\n",
        "<li>Make a quick plot with <code>.plot()</code> to make sure the\n",
        "download worked.</li>\n",
        "<li>Run the cell to load the data into Python</li>\n",
        "</ol></div></div>"
      ]
    },
    {
      "cell_type": "code",
      "execution_count": 9,
      "id": "1b959634",
      "metadata": {},
      "outputs": [],
      "source": [
        "# Open up the ecoregions boundaries\n",
        "gdf = gpd.read_file(a_path)\n",
        "\n",
        "# Name the index so it will match the other data later on\n",
        "gdf.index.name = 'ecoregion'\n",
        "\n",
        "# Plot the ecoregions to check download"
      ]
    },
    {
      "cell_type": "markdown",
      "id": "858b66c7-700a-463e-85d3-e33366db55b4",
      "metadata": {},
      "source": [
        "## STEP 3: Download species observation data\n",
        "\n",
        "For this challenge, you will use a database called the [Global\n",
        "Biodiversity Information Facility (GBIF)](https://www.gbif.org/). GBIF\n",
        "is compiled from species observation data all over the world, and\n",
        "includes everything from museum specimens to photos taken by citizen\n",
        "scientists in their backyards. We’ve compiled some sample data in the\n",
        "same format that you will get from GBIF.\n",
        "\n",
        "### Download sample data\n",
        "\n",
        "<link rel=\"stylesheet\" type=\"text/css\" href=\"./assets/styles.css\"><div class=\"callout callout-style-default callout-titled callout-task\"><div class=\"callout-header\"><div class=\"callout-icon-container\"><i class=\"callout-icon\"></i></div><div class=\"callout-title-container flex-fill\">Try It: Import GBIF Data</div></div><div class=\"callout-body-container callout-body\"><ol type=\"1\">\n",
        "<li>Define the <code>gbif_url</code>. You can get sample data from\n",
        "https://github.com/cu-esiil-edu/esiil-learning-portal/releases/download/data-release/species-distribution-foundations-data.zip</li>\n",
        "<li>Using the ecoregions code, modify the code cell below so that the\n",
        "download only runs once, as with the ecoregion data.</li>\n",
        "<li>Run the cell</li>\n",
        "</ol></div></div>"
      ]
    },
    {
      "cell_type": "code",
      "execution_count": 11,
      "id": "779c69dd",
      "metadata": {},
      "outputs": [],
      "source": [
        "# Load the GBIF data\n",
        "gbif_df = pd.read_csv(\n",
        "    gbif_url, \n",
        "    delimiter='\\t',\n",
        "    index_col='gbifID',\n",
        "    usecols=['gbifID', 'decimalLatitude', 'decimalLongitude', 'month'])\n",
        "gbif_df.head()"
      ]
    },
    {
      "cell_type": "markdown",
      "id": "8bb45ad8-cc28-4259-a169-55192647712d",
      "metadata": {},
      "source": [
        "### Convert the GBIF data to a GeoDataFrame\n",
        "\n",
        "To plot the GBIF data, we need to convert it to a `GeoDataFrame` first.\n",
        "This will make some special geospatial operations from `geopandas`\n",
        "available, such as spatial joins and plotting.\n",
        "\n",
        "<link rel=\"stylesheet\" type=\"text/css\" href=\"./assets/styles.css\"><div class=\"callout callout-style-default callout-titled callout-task\"><div class=\"callout-header\"><div class=\"callout-icon-container\"><i class=\"callout-icon\"></i></div><div class=\"callout-title-container flex-fill\">Try It: Convert `DataFrame` to `GeoDataFrame`</div></div><div class=\"callout-body-container callout-body\"><ol type=\"1\">\n",
        "<li>Replace <code>your_dataframe</code> with the name of the\n",
        "<code>DataFrame</code> you just got from GBIF</li>\n",
        "<li>Replace <code>longitude_column_name</code> and\n",
        "<code>latitude_column_name</code> with column names from your\n",
        "`DataFrame</li>\n",
        "<li>Run the code to get a <code>GeoDataFrame</code> of the GBIF\n",
        "data.</li>\n",
        "</ol></div></div>"
      ]
    },
    {
      "cell_type": "code",
      "execution_count": 13,
      "id": "ac7c5db3",
      "metadata": {
        "highlight": true
      },
      "outputs": [],
      "source": [
        "gbif_gdf = (\n",
        "    gpd.GeoDataFrame(\n",
        "        your_dataframe, \n",
        "        geometry=gpd.points_from_xy(\n",
        "            your_dataframe.longitude_column_name, \n",
        "            your_dataframe.latitude_column_name), \n",
        "        crs=\"EPSG:4326\")\n",
        "    # Select the desired columns\n",
        "    [[]]\n",
        ")\n",
        "gbif_gdf"
      ]
    },
    {
      "cell_type": "markdown",
      "id": "0d95a6ef-29c9-43d4-9912-2aa6f3151965",
      "metadata": {},
      "source": [
        "<link rel=\"stylesheet\" type=\"text/css\" href=\"./assets/styles.css\"><div class=\"callout callout-style-default callout-titled callout-task\"><div class=\"callout-header\"><div class=\"callout-icon-container\"><i class=\"callout-icon\"></i></div><div class=\"callout-title-container flex-fill\">Try It</div></div><div class=\"callout-body-container callout-body\"><p>Make sure to store the new version of your <code>DataFrame</code> for\n",
        "other notebooks!</p>\n",
        "<div id=\"70111aa5\" class=\"cell\" data-execution_count=\"15\">\n",
        "<div class=\"sourceCode\" id=\"cb1\"><pre\n",
        "class=\"sourceCode python cell-code\"><code class=\"sourceCode python\"><span id=\"cb1-1\"><a href=\"#cb1-1\" aria-hidden=\"true\" tabindex=\"-1\"></a><span class=\"op\">%</span>store ecoregions_gdf gbif_gdf</span></code></pre></div>\n",
        "</div></div></div>"
      ]
    }
  ],
  "metadata": {
    "kernelspec": {
      "display_name": "base",
      "language": "python",
      "name": "python3"
    },
    "language_info": {
      "codemirror_mode": {
        "name": "ipython",
        "version": 3
      },
      "file_extension": ".py",
      "mimetype": "text/x-python",
      "name": "python",
      "nbconvert_exporter": "python",
      "pygments_lexer": "ipython3",
      "version": "3.11.6"
    }
  },
  "nbformat": 4,
  "nbformat_minor": 5
}
